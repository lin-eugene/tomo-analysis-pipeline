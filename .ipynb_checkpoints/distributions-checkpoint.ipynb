{
 "cells": [
  {
   "cell_type": "markdown",
   "id": "6aafc088",
   "metadata": {},
   "source": [
    "**Exercise 1**\n",
    "Create 2D Gaussian distribution centred at origin\n",
    "Pick local maximum\n",
    "Walk from centre and see intensity distribution\n",
    "\n",
    "\n",
    "**Exercise 2**\n",
    "Create Mixture of gaussians\n",
    "Pick local maxima\n",
    "Walk from centre and see intensity distribution"
   ]
  },
  {
   "cell_type": "code",
   "execution_count": 1,
   "id": "946e2665",
   "metadata": {},
   "outputs": [],
   "source": [
    "import numpy as np\n",
    "import sys, copy, os\n",
    "import matplotlib.pyplot as plt\n",
    "\n",
    "#create 2D Gaussian\n",
    "MatLen = 100\n",
    "inp = np.zeros"
   ]
  }
 ],
 "metadata": {
  "kernelspec": {
   "display_name": "Python 3 (ipykernel)",
   "language": "python",
   "name": "python3"
  },
  "language_info": {
   "codemirror_mode": {
    "name": "ipython",
    "version": 3
   },
   "file_extension": ".py",
   "mimetype": "text/x-python",
   "name": "python",
   "nbconvert_exporter": "python",
   "pygments_lexer": "ipython3",
   "version": "3.9.9"
  }
 },
 "nbformat": 4,
 "nbformat_minor": 5
}
